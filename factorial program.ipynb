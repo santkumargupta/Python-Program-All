{
 "cells": [
  {
   "cell_type": "code",
   "execution_count": 3,
   "metadata": {},
   "outputs": [
    {
     "name": "stdout",
     "output_type": "stream",
     "text": [
      "Factorial of 5 is 120\n"
     ]
    }
   ],
   "source": [
    "def factorial(n):\n",
    "    if n<0:\n",
    "        return 0\n",
    "    elif n== 0 or n== 1:\n",
    "        return 1\n",
    "    else:\n",
    "        fact = 1\n",
    "        while(n>1):\n",
    "            fact*= n\n",
    "            n -= 1\n",
    "        return fact\n",
    "#Driver Code\n",
    "num = 5 ;\n",
    "print(\"Factorial of\" ,num,\"is\" ,factorial (num))"
   ]
  },
  {
   "cell_type": "code",
   "execution_count": null,
   "metadata": {},
   "outputs": [],
   "source": []
  }
 ],
 "metadata": {
  "kernelspec": {
   "display_name": "Python 3",
   "language": "python",
   "name": "python3"
  },
  "language_info": {
   "codemirror_mode": {
    "name": "ipython",
    "version": 3
   },
   "file_extension": ".py",
   "mimetype": "text/x-python",
   "name": "python",
   "nbconvert_exporter": "python",
   "pygments_lexer": "ipython3",
   "version": "3.7.3"
  }
 },
 "nbformat": 4,
 "nbformat_minor": 2
}
